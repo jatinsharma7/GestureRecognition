{
 "cells": [
  {
   "cell_type": "markdown",
   "metadata": {
    "id": "0Cev1Gtarr7w"
   },
   "source": [
    "# Gesture Recognition\n",
    "In this group project, you are going to build a 3D Conv model that will be able to predict the 5 gestures correctly. Please import the following libraries to get started."
   ]
  },
  {
   "cell_type": "code",
   "execution_count": 14,
   "metadata": {
    "id": "diFV0ljhrr7z"
   },
   "outputs": [],
   "source": [
    "import numpy as np\n",
    "import os\n",
    "import cv2\n",
    "import datetime\n",
    "import os\n",
    "import matplotlib.pyplot as plt"
   ]
  },
  {
   "cell_type": "markdown",
   "metadata": {
    "id": "iIiDJ8mArr70"
   },
   "source": [
    "We set the random seed so that the results don't vary drastically."
   ]
  },
  {
   "cell_type": "code",
   "execution_count": 15,
   "metadata": {
    "id": "WyOXp8l6rr71"
   },
   "outputs": [],
   "source": [
    "np.random.seed(30)\n",
    "import random as rn\n",
    "rn.seed(30)\n",
    "from keras import backend as K\n",
    "import tensorflow as tf\n",
    "#tf.random.set_seed(30)\n",
    "tf.set_random_seed(30) # GPU"
   ]
  },
  {
   "cell_type": "markdown",
   "metadata": {
    "id": "JXcPPlGMrr72"
   },
   "source": [
    "In this block, you read the folder names for training and validation. You also set the `batch_size` here. Note that you set the batch size in such a way that you are able to use the GPU in full capacity. You keep increasing the batch size until the machine throws an error."
   ]
  },
  {
   "cell_type": "code",
   "execution_count": 16,
   "metadata": {
    "id": "BhZeeiRdrr73"
   },
   "outputs": [],
   "source": [
    "train_doc = (np.random.permutation(open(r'./Project_data/train.csv').readlines()))\n",
    "val_doc = np.random.permutation(open(r'./Project_data/val.csv').readlines())\n",
    "\n",
    "batch_size = 30 #experiment with the batch size"
   ]
  },
  {
   "cell_type": "code",
   "execution_count": 17,
   "metadata": {
    "colab": {
     "base_uri": "https://localhost:8080/"
    },
    "id": "1CSTfrMGrr74",
    "outputId": "9f01157e-a84f-4513-c5f2-62b83010588f"
   },
   "outputs": [
    {
     "name": "stdout",
     "output_type": "stream",
     "text": [
      "(663,)\n",
      "(100,)\n"
     ]
    }
   ],
   "source": [
    "print(train_doc.shape)\n",
    "print(val_doc.shape)\n",
    "train_shape = train_doc.shape[0]"
   ]
  },
  {
   "cell_type": "code",
   "execution_count": 18,
   "metadata": {
    "colab": {
     "base_uri": "https://localhost:8080/"
    },
    "id": "ih7yv7Sorr75",
    "outputId": "2730620f-6650-4596-a499-afbfd33d75ac"
   },
   "outputs": [
    {
     "data": {
      "text/plain": [
       "663"
      ]
     },
     "execution_count": 18,
     "metadata": {},
     "output_type": "execute_result"
    }
   ],
   "source": [
    "train_doc.shape[0]"
   ]
  },
  {
   "cell_type": "markdown",
   "metadata": {
    "id": "aS6LoxrYrr75"
   },
   "source": [
    "## Generator\n",
    "This is one of the most important part of the code. The overall structure of the generator has been given. In the generator, you are going to preprocess the images as you have images of 2 different dimensions as well as create a batch of video frames. You have to experiment with `img_idx`, `y`,`z` and normalization such that you get high accuracy."
   ]
  },
  {
   "cell_type": "code",
   "execution_count": 19,
   "metadata": {
    "id": "xq5cvwEMrr76"
   },
   "outputs": [],
   "source": [
    "def generator(source_path, folder_list, batch_size):\n",
    "    print( 'Source path = ', source_path, '; batch size =', batch_size)\n",
    "    image_seq=18 # no. of images seq in a video\n",
    "    img_idx = [2,4,6,8,10,12,13,14,15,16,17,18,20,21,22,24,26,28] #create a list of image numbers you want to use for a particular video\n",
    "    image_height=90 # height\n",
    "    image_width=90 # width \n",
    "\n",
    "    while True:\n",
    "        t = np.random.permutation(folder_list)\n",
    "        num_batches = int(len(t)//batch_size) # calculate the number of batches\n",
    "        for batch in range(num_batches): # we iterate over the number of batches\n",
    "            batch_data = np.zeros((batch_size,image_seq,image_height,image_width,3)) \n",
    "            batch_labels = np.zeros((batch_size,5)) # batch_labels is the one hot representation of the output\n",
    "            for folder in range(batch_size): # iterate over the batch_size\n",
    "                imgs = os.listdir(source_path+'/'+ t[folder + (batch*batch_size)].split(';')[0]) # read all the images in the folder\n",
    "                for idx,item in enumerate(img_idx): #  Iterate iver the frames/images of a folder to read them in\n",
    "                    image = cv2.imread(source_path+'/'+ t[folder + (batch*batch_size)].strip().split(';')[0]+'/'+imgs[item]).astype(np.float32)\n",
    "\n",
    "                    #crop the images and resize them. Note that the images are of 2 different shape \n",
    "                    #and the conv3D will throw error if the inputs in a batch have different shapes                 \n",
    "                    \n",
    "                    if(image.shape[1]==160):\n",
    "                        image_resized = cv2.resize(image[:,20:140,:],(image_width,image_height))\n",
    "                    else:\n",
    "                        image_resized = cv2.resize(image,(image_width,image_height))\n",
    "\n",
    "\n",
    "                    batch_data[folder,idx,:,:,0] = (image_resized[:,:,0])/255 #normalise and feed in the image\n",
    "                    batch_data[folder,idx,:,:,1] = (image_resized[:,:,1])/255 #normalise and feed in the image\n",
    "                    batch_data[folder,idx,:,:,2] = (image_resized[:,:,2])/255 #normalise and feed in the image\n",
    "\n",
    "                batch_labels[folder, int(t[folder + (batch*batch_size)].strip().split(';')[2])] = 1\n",
    "            yield batch_data, batch_labels #you yield the batch_data and the batch_labels, remember what does yield do\n",
    "\n",
    "\n",
    "        # write the code for the remaining data points which are left after full batches\n",
    "\n",
    "        pending_folders = len(t)%batch_size\n",
    "        if ( pending_folders > 0):\n",
    "\n",
    "            batch_data = np.zeros((pending_folders,image_seq,image_height,image_width,3)) # x is the number of images you use for each video, (y,z) is the final size of the input images and 3 is the number of channels RGB\n",
    "            batch_labels = np.zeros((pending_folders,5)) # batch_labels is the one hot representation of the output\n",
    "\n",
    "            for folder in range(pending_folders): # iterate over the batch_size\n",
    "                imgs = os.listdir(source_path+'/'+ t[folder + (num_batches*batch_size)].split(';')[0])\n",
    "                for idx,item in enumerate(img_idx): #  Iterate iver the frames/images of a folder to read them in\n",
    "                    image = cv2.imread(source_path+'/'+ t[folder + (num_batches*batch_size)].strip().split(';')[0]+'/'+imgs[item]).astype(np.float32)\n",
    "\n",
    "                    #crop the images and resize them. Note that the images are of 2 different shape \n",
    "                    #and the conv3D will throw error if the inputs in a batch have different shapes\n",
    "                    if(image.shape[1]==160):\n",
    "                        image_resized = cv2.resize(image[:,20:140,:],(image_width,image_height))\n",
    "                    else:\n",
    "                        image_resized = cv2.resize(image,(image_width,image_height))\n",
    "\n",
    "                    #crop the images and resize them. Note that the images are of 2 different shape \n",
    "                    #and the conv3D will throw error if the inputs in a batch have different shapes\n",
    "\n",
    "                    batch_data[folder,idx,:,:,0] = (image_resized[:,:,0])/255 #normalise and feed in the image\n",
    "                    batch_data[folder,idx,:,:,1] = (image_resized[:,:,1])/255 #normalise and feed in the image\n",
    "                    batch_data[folder,idx,:,:,2] = (image_resized[:,:,2])/255 #normalise and feed in the image\n",
    "\n",
    "                batch_labels[folder, int(t[folder + (num_batches*batch_size)].strip().split(';')[2])] = 1\n",
    "            yield batch_data, batch_labels #you yield the batch_data and the batch_labels, remember what does yield do"
   ]
  },
  {
   "cell_type": "markdown",
   "metadata": {
    "id": "7SxRFPULrr79"
   },
   "source": [
    "Note here that a video is represented above in the generator as (number of images, height, width, number of channels). Take this into consideration while creating the model architecture."
   ]
  },
  {
   "cell_type": "code",
   "execution_count": 20,
   "metadata": {
    "colab": {
     "base_uri": "https://localhost:8080/"
    },
    "id": "6mvsbZWWrr7_",
    "outputId": "f800e5a1-8c10-4a3e-bc7b-44cec8b06914"
   },
   "outputs": [
    {
     "name": "stdout",
     "output_type": "stream",
     "text": [
      "# training sequences = 663\n",
      "# validation sequences = 100\n",
      "# epochs = 30\n"
     ]
    }
   ],
   "source": [
    "curr_dt_time = datetime.datetime.now()\n",
    "train_path = './Project_data/train'\n",
    "val_path = './Project_data/val'\n",
    "\n",
    "num_train_sequences = len(train_doc)\n",
    "print('# training sequences =', num_train_sequences)\n",
    "num_val_sequences = len(val_doc)\n",
    "print('# validation sequences =', num_val_sequences)\n",
    "num_epochs = 30 # choose the number of epochs\n",
    "print ('# epochs =', num_epochs)"
   ]
  },
  {
   "cell_type": "markdown",
   "metadata": {
    "id": "mWjyOXIrrr7_"
   },
   "source": [
    "## Model\n",
    "Here you make the model using different functionalities that Keras provides. Remember to use `Conv3D` and `MaxPooling3D` and not `Conv2D` and `Maxpooling2D` for a 3D convolution model. You would want to use `TimeDistributed` while building a Conv2D + RNN model. Also remember that the last layer is the softmax. Design the network in such a way that the model is able to give good accuracy on the least number of parameters so that it can fit in the memory of the webcam."
   ]
  },
  {
   "cell_type": "code",
   "execution_count": 21,
   "metadata": {
    "id": "u7OTouBkrr8B",
    "scrolled": false
   },
   "outputs": [],
   "source": [
    "from keras.models import Sequential, Model\n",
    "from keras.layers import Dense, GRU, Flatten, TimeDistributed, Flatten, BatchNormalization, Activation, Dropout ,GlobalAveragePooling3D\n",
    "from keras.layers.convolutional import Conv3D, MaxPooling3D \n",
    "\n",
    "from keras.callbacks import Callback, ModelCheckpoint, EarlyStopping, ReduceLROnPlateau\n",
    "from keras.optimizers import Adam, SGD, RMSprop\n",
    "from keras.regularizers import l2\n",
    "\n",
    "#write your model here\n",
    "input_shape =[18,90,90,3]\n",
    "\n",
    "model = Sequential()\n",
    "# first conv layer\n",
    "model.add(Conv3D(32, kernel_size=(3, 3, 3),\n",
    "                 activation='relu',\n",
    "                 input_shape=input_shape,kernel_regularizer=l2(0.01), padding='same')) # input shape = (img_rows, img_cols, 1)\n",
    "model.add(BatchNormalization())\n",
    "model.add(MaxPooling3D(pool_size=(2,2,2)))\n",
    "\n",
    "# second conv layer\n",
    "model.add(Conv3D(64, kernel_size=(3, 3, 3), \n",
    "                 activation='relu',kernel_regularizer=l2(0.01), padding='same'))\n",
    "model.add(BatchNormalization())\n",
    "model.add(MaxPooling3D(pool_size=(2,2,2)))\n",
    "model.add(Dropout(0.25))\n",
    "\n",
    "# third conv layer\n",
    "model.add(Conv3D(128, kernel_size=(3, 3, 3), \n",
    "                 activation='relu',kernel_regularizer=l2(0.01), padding='same'))\n",
    "model.add(BatchNormalization())\n",
    "model.add(MaxPooling3D(pool_size=(2,2,2)))\n",
    "model.add(Dropout(0.25))\n",
    "\n",
    "# fourth conv layer\n",
    "model.add(Conv3D(256, kernel_size=(3, 3, 3), \n",
    "                 activation='relu',kernel_regularizer=l2(0.01), padding='same'))\n",
    "model.add(BatchNormalization())\n",
    "model.add(MaxPooling3D(pool_size=(2,2,2)))\n",
    "model.add(Dropout(0.25))\n",
    "\n",
    "\n",
    "# flatten and put a fully connected layer\n",
    "model.add(Flatten())\n",
    "model.add(Dense(256, activation='relu',kernel_regularizer=l2(0.01)))\n",
    "# fully connected with regularization\n",
    "model.add(Dropout(0.5))\n",
    "model.add(Dense(5))\n",
    "model.add(Activation('softmax'))"
   ]
  },
  {
   "cell_type": "markdown",
   "metadata": {
    "id": "VBIpkU9jrr8D"
   },
   "source": [
    "Now that you have written the model, the next step is to `compile` the model. When you print the `summary` of the model, you'll see the total number of parameters you have to train."
   ]
  },
  {
   "cell_type": "code",
   "execution_count": 22,
   "metadata": {
    "colab": {
     "base_uri": "https://localhost:8080/"
    },
    "id": "JmVyLVJkrr8F",
    "outputId": "0cd708cd-523d-4c42-9628-b2af5dd8b47e",
    "scrolled": false
   },
   "outputs": [
    {
     "name": "stdout",
     "output_type": "stream",
     "text": [
      "_________________________________________________________________\n",
      "Layer (type)                 Output Shape              Param #   \n",
      "=================================================================\n",
      "conv3d_5 (Conv3D)            (None, 18, 90, 90, 32)    2624      \n",
      "_________________________________________________________________\n",
      "batch_normalization_5 (Batch (None, 18, 90, 90, 32)    128       \n",
      "_________________________________________________________________\n",
      "max_pooling3d_5 (MaxPooling3 (None, 9, 45, 45, 32)     0         \n",
      "_________________________________________________________________\n",
      "conv3d_6 (Conv3D)            (None, 9, 45, 45, 64)     55360     \n",
      "_________________________________________________________________\n",
      "batch_normalization_6 (Batch (None, 9, 45, 45, 64)     256       \n",
      "_________________________________________________________________\n",
      "max_pooling3d_6 (MaxPooling3 (None, 4, 22, 22, 64)     0         \n",
      "_________________________________________________________________\n",
      "dropout_5 (Dropout)          (None, 4, 22, 22, 64)     0         \n",
      "_________________________________________________________________\n",
      "conv3d_7 (Conv3D)            (None, 4, 22, 22, 128)    221312    \n",
      "_________________________________________________________________\n",
      "batch_normalization_7 (Batch (None, 4, 22, 22, 128)    512       \n",
      "_________________________________________________________________\n",
      "max_pooling3d_7 (MaxPooling3 (None, 2, 11, 11, 128)    0         \n",
      "_________________________________________________________________\n",
      "dropout_6 (Dropout)          (None, 2, 11, 11, 128)    0         \n",
      "_________________________________________________________________\n",
      "conv3d_8 (Conv3D)            (None, 2, 11, 11, 256)    884992    \n",
      "_________________________________________________________________\n",
      "batch_normalization_8 (Batch (None, 2, 11, 11, 256)    1024      \n",
      "_________________________________________________________________\n",
      "max_pooling3d_8 (MaxPooling3 (None, 1, 5, 5, 256)      0         \n",
      "_________________________________________________________________\n",
      "dropout_7 (Dropout)          (None, 1, 5, 5, 256)      0         \n",
      "_________________________________________________________________\n",
      "flatten_2 (Flatten)          (None, 6400)              0         \n",
      "_________________________________________________________________\n",
      "dense_3 (Dense)              (None, 256)               1638656   \n",
      "_________________________________________________________________\n",
      "dropout_8 (Dropout)          (None, 256)               0         \n",
      "_________________________________________________________________\n",
      "dense_4 (Dense)              (None, 5)                 1285      \n",
      "_________________________________________________________________\n",
      "activation_2 (Activation)    (None, 5)                 0         \n",
      "=================================================================\n",
      "Total params: 2,806,149\n",
      "Trainable params: 2,805,189\n",
      "Non-trainable params: 960\n",
      "_________________________________________________________________\n",
      "None\n"
     ]
    }
   ],
   "source": [
    "#optimiser = SGD(learning_rate=0.001, momentum=0.5, nesterov=True)#write your optimizer #lr for GPU\n",
    "optimiser = SGD(lr=0.001, momentum=0.5, nesterov=True)\n",
    "#optimiser = Adam(lr=0.001)\n",
    "model.compile(optimizer=optimiser, loss='categorical_crossentropy', metrics=['categorical_accuracy'])\n",
    "print (model.summary())"
   ]
  },
  {
   "cell_type": "markdown",
   "metadata": {
    "id": "qV7Xb8qhrr8F"
   },
   "source": [
    "Let us create the `train_generator` and the `val_generator` which will be used in `.fit_generator`."
   ]
  },
  {
   "cell_type": "code",
   "execution_count": 23,
   "metadata": {
    "id": "FI9mOGXRrr8G"
   },
   "outputs": [],
   "source": [
    "train_generator = generator(train_path, train_doc, batch_size)\n",
    "val_generator = generator(val_path, val_doc, batch_size)"
   ]
  },
  {
   "cell_type": "code",
   "execution_count": 24,
   "metadata": {
    "colab": {
     "base_uri": "https://localhost:8080/"
    },
    "id": "oaUg5kdQrr8H",
    "outputId": "1a655341-febd-45d2-cb4b-fa9547dc2874"
   },
   "outputs": [],
   "source": [
    "\n",
    "model_name = 'model_init' + '_' + str(curr_dt_time).replace(' ','').replace(':','_') + '/'\n",
    "\n",
    "if not os.path.exists(model_name):\n",
    "    os.mkdir(model_name)\n",
    "        \n",
    "filepath = model_name + 'model-{epoch:05d}-{loss:.5f}-{categorical_accuracy:.5f}-{val_loss:.5f}-{val_categorical_accuracy:.5f}.h5'\n",
    "\n",
    "checkpoint = ModelCheckpoint(filepath, monitor='val_loss', verbose=1, save_best_only=True, save_weights_only=False, mode='auto', period=1)\n",
    "early_Stopping = EarlyStopping(monitor='val_loss', patience=5, verbose=1, mode='auto')\n",
    "LR = ReduceLROnPlateau(monitor='val_loss', factor=0.2, verbose=1, patience=3)# write the REducelronplateau code here\n",
    "\n",
    "callbacks_list = [checkpoint, LR,early_Stopping]\n",
    "#callbacks_list = [LR,early_Stopping]"
   ]
  },
  {
   "cell_type": "markdown",
   "metadata": {
    "id": "onQ1lflDrr8H"
   },
   "source": [
    "The `steps_per_epoch` and `validation_steps` are used by `fit_generator` to decide the number of next() calls it need to make."
   ]
  },
  {
   "cell_type": "code",
   "execution_count": 25,
   "metadata": {
    "id": "6cEzTtf3rr8I"
   },
   "outputs": [],
   "source": [
    "if (num_train_sequences%batch_size) == 0:\n",
    "    steps_per_epoch = int(num_train_sequences/batch_size)\n",
    "else:\n",
    "    steps_per_epoch = (num_train_sequences//batch_size) + 1\n",
    "\n",
    "if (num_val_sequences%batch_size) == 0:\n",
    "    validation_steps = int(num_val_sequences/batch_size)\n",
    "else:\n",
    "    validation_steps = (num_val_sequences//batch_size) + 1"
   ]
  },
  {
   "cell_type": "markdown",
   "metadata": {
    "id": "7o-8fah7rr8I"
   },
   "source": [
    "Let us now fit the model. This will start training the model and with the help of the checkpoints, you'll be able to save the model at the end of each epoch."
   ]
  },
  {
   "cell_type": "code",
   "execution_count": 26,
   "metadata": {
    "colab": {
     "base_uri": "https://localhost:8080/"
    },
    "id": "Q4aDk96err8J",
    "outputId": "4db8cb28-5bb8-475b-fe9b-0fea5866545d",
    "scrolled": false
   },
   "outputs": [
    {
     "name": "stdout",
     "output_type": "stream",
     "text": [
      "Source path =  ./Project_data/val ; batch size = 30\n",
      "Source path =  ./Project_data/train ; batch size = 30\n",
      "Epoch 1/30\n",
      "23/23 [==============================] - 27s 1s/step - loss: 11.1437 - categorical_accuracy: 0.2773 - val_loss: 9.5591 - val_categorical_accuracy: 0.4800\n",
      "\n",
      "Epoch 00001: val_loss improved from inf to 9.55906, saving model to model_init_2020-12-2313_56_53.773365/model-00001-11.18890-0.28808-9.55906-0.48000.h5\n",
      "Epoch 2/30\n",
      "23/23 [==============================] - 21s 919ms/step - loss: 9.8741 - categorical_accuracy: 0.3745 - val_loss: 9.4308 - val_categorical_accuracy: 0.4000\n",
      "\n",
      "Epoch 00002: val_loss improved from 9.55906 to 9.43079, saving model to model_init_2020-12-2313_56_53.773365/model-00002-9.85899-0.38914-9.43079-0.40000.h5\n",
      "Epoch 3/30\n",
      "23/23 [==============================] - 23s 990ms/step - loss: 9.3983 - categorical_accuracy: 0.4315 - val_loss: 9.1669 - val_categorical_accuracy: 0.5400\n",
      "\n",
      "Epoch 00003: val_loss improved from 9.43079 to 9.16689, saving model to model_init_2020-12-2313_56_53.773365/model-00003-9.41270-0.42232-9.16689-0.54000.h5\n",
      "Epoch 4/30\n",
      "23/23 [==============================] - 23s 981ms/step - loss: 9.2403 - categorical_accuracy: 0.4658 - val_loss: 9.1763 - val_categorical_accuracy: 0.5600\n",
      "\n",
      "Epoch 00004: val_loss did not improve from 9.16689\n",
      "Epoch 5/30\n",
      "23/23 [==============================] - 22s 973ms/step - loss: 9.1202 - categorical_accuracy: 0.4863 - val_loss: 8.8845 - val_categorical_accuracy: 0.6200\n",
      "\n",
      "Epoch 00005: val_loss improved from 9.16689 to 8.88454, saving model to model_init_2020-12-2313_56_53.773365/model-00005-9.10766-0.50528-8.88454-0.62000.h5\n",
      "Epoch 6/30\n",
      "23/23 [==============================] - 22s 974ms/step - loss: 9.1098 - categorical_accuracy: 0.5090 - val_loss: 8.9237 - val_categorical_accuracy: 0.6600\n",
      "\n",
      "Epoch 00006: val_loss did not improve from 8.88454\n",
      "Epoch 7/30\n",
      "23/23 [==============================] - 22s 965ms/step - loss: 8.9880 - categorical_accuracy: 0.5404 - val_loss: 8.9977 - val_categorical_accuracy: 0.6100\n",
      "\n",
      "Epoch 00007: val_loss did not improve from 8.88454\n",
      "Epoch 8/30\n",
      "23/23 [==============================] - 22s 970ms/step - loss: 8.8927 - categorical_accuracy: 0.5717 - val_loss: 8.7357 - val_categorical_accuracy: 0.6600\n",
      "\n",
      "Epoch 00008: val_loss improved from 8.88454 to 8.73566, saving model to model_init_2020-12-2313_56_53.773365/model-00008-8.91960-0.55505-8.73566-0.66000.h5\n",
      "Epoch 9/30\n",
      "23/23 [==============================] - 23s 990ms/step - loss: 8.8591 - categorical_accuracy: 0.6159 - val_loss: 8.8170 - val_categorical_accuracy: 0.6800\n",
      "\n",
      "Epoch 00009: val_loss did not improve from 8.73566\n",
      "Epoch 10/30\n",
      "23/23 [==============================] - 23s 1s/step - loss: 8.7721 - categorical_accuracy: 0.6269 - val_loss: 8.7476 - val_categorical_accuracy: 0.6900\n",
      "\n",
      "Epoch 00010: val_loss did not improve from 8.73566\n",
      "Epoch 11/30\n",
      "23/23 [==============================] - 23s 1s/step - loss: 8.7381 - categorical_accuracy: 0.6213 - val_loss: 8.6242 - val_categorical_accuracy: 0.6700\n",
      "\n",
      "Epoch 00011: val_loss improved from 8.73566 to 8.62421, saving model to model_init_2020-12-2313_56_53.773365/model-00011-8.71726-0.64555-8.62421-0.67000.h5\n",
      "Epoch 12/30\n",
      "23/23 [==============================] - 23s 1s/step - loss: 8.7025 - categorical_accuracy: 0.6217 - val_loss: 8.6306 - val_categorical_accuracy: 0.7100\n",
      "\n",
      "Epoch 00012: val_loss did not improve from 8.62421\n",
      "Epoch 13/30\n",
      "23/23 [==============================] - 23s 989ms/step - loss: 8.7006 - categorical_accuracy: 0.6545 - val_loss: 8.6038 - val_categorical_accuracy: 0.7200\n",
      "\n",
      "Epoch 00013: val_loss improved from 8.62421 to 8.60376, saving model to model_init_2020-12-2313_56_53.773365/model-00013-8.72364-0.64103-8.60376-0.72000.h5\n",
      "Epoch 14/30\n",
      "23/23 [==============================] - 23s 1s/step - loss: 8.6464 - categorical_accuracy: 0.6458 - val_loss: 8.6352 - val_categorical_accuracy: 0.7200\n",
      "\n",
      "Epoch 00014: val_loss did not improve from 8.60376\n",
      "Epoch 15/30\n",
      "23/23 [==============================] - 22s 976ms/step - loss: 8.5623 - categorical_accuracy: 0.6864 - val_loss: 8.5996 - val_categorical_accuracy: 0.7300\n",
      "\n",
      "Epoch 00015: val_loss improved from 8.60376 to 8.59957, saving model to model_init_2020-12-2313_56_53.773365/model-00015-8.58477-0.67421-8.59957-0.73000.h5\n",
      "Epoch 16/30\n",
      "23/23 [==============================] - 22s 969ms/step - loss: 8.5498 - categorical_accuracy: 0.6620 - val_loss: 8.6004 - val_categorical_accuracy: 0.6700\n",
      "\n",
      "Epoch 00016: val_loss did not improve from 8.59957\n",
      "Epoch 17/30\n",
      "23/23 [==============================] - 22s 941ms/step - loss: 8.5273 - categorical_accuracy: 0.6884 - val_loss: 8.6455 - val_categorical_accuracy: 0.7000\n",
      "\n",
      "Epoch 00017: val_loss did not improve from 8.59957\n",
      "Epoch 18/30\n",
      "23/23 [==============================] - 22s 945ms/step - loss: 8.4990 - categorical_accuracy: 0.7097 - val_loss: 8.5737 - val_categorical_accuracy: 0.6800\n",
      "\n",
      "Epoch 00018: val_loss improved from 8.59957 to 8.57372, saving model to model_init_2020-12-2313_56_53.773365/model-00018-8.52371-0.69834-8.57372-0.68000.h5\n",
      "Epoch 19/30\n",
      "23/23 [==============================] - 22s 938ms/step - loss: 8.4403 - categorical_accuracy: 0.7175 - val_loss: 8.5833 - val_categorical_accuracy: 0.7000\n",
      "\n",
      "Epoch 00019: val_loss did not improve from 8.57372\n",
      "Epoch 20/30\n",
      "23/23 [==============================] - 22s 950ms/step - loss: 8.4508 - categorical_accuracy: 0.7073 - val_loss: 8.4846 - val_categorical_accuracy: 0.7200\n",
      "\n",
      "Epoch 00020: val_loss improved from 8.57372 to 8.48459, saving model to model_init_2020-12-2313_56_53.773365/model-00020-8.43966-0.70890-8.48459-0.72000.h5\n",
      "Epoch 21/30\n",
      "23/23 [==============================] - 22s 966ms/step - loss: 8.4637 - categorical_accuracy: 0.7146 - val_loss: 8.4283 - val_categorical_accuracy: 0.7500\n",
      "\n",
      "Epoch 00021: val_loss improved from 8.48459 to 8.42827, saving model to model_init_2020-12-2313_56_53.773365/model-00021-8.40391-0.71644-8.42827-0.75000.h5\n",
      "Epoch 22/30\n",
      "23/23 [==============================] - 22s 956ms/step - loss: 8.3523 - categorical_accuracy: 0.7314 - val_loss: 8.3832 - val_categorical_accuracy: 0.7300\n",
      "\n",
      "Epoch 00022: val_loss improved from 8.42827 to 8.38325, saving model to model_init_2020-12-2313_56_53.773365/model-00022-8.37546-0.72097-8.38325-0.73000.h5\n",
      "Epoch 23/30\n",
      "23/23 [==============================] - 22s 952ms/step - loss: 8.2970 - categorical_accuracy: 0.7430 - val_loss: 8.3760 - val_categorical_accuracy: 0.7400\n",
      "\n",
      "Epoch 00023: val_loss improved from 8.38325 to 8.37600, saving model to model_init_2020-12-2313_56_53.773365/model-00023-8.31420-0.73303-8.37600-0.74000.h5\n",
      "Epoch 24/30\n",
      "23/23 [==============================] - 22s 946ms/step - loss: 8.2222 - categorical_accuracy: 0.7793 - val_loss: 8.3549 - val_categorical_accuracy: 0.7600\n",
      "\n",
      "Epoch 00024: val_loss improved from 8.37600 to 8.35495, saving model to model_init_2020-12-2313_56_53.773365/model-00024-8.23460-0.77074-8.35495-0.76000.h5\n",
      "Epoch 25/30\n",
      "23/23 [==============================] - 22s 950ms/step - loss: 8.2671 - categorical_accuracy: 0.7518 - val_loss: 8.2840 - val_categorical_accuracy: 0.7400\n",
      "\n",
      "Epoch 00025: val_loss improved from 8.35495 to 8.28396, saving model to model_init_2020-12-2313_56_53.773365/model-00025-8.27634-0.74208-8.28396-0.74000.h5\n",
      "Epoch 26/30\n",
      "23/23 [==============================] - 21s 934ms/step - loss: 8.2321 - categorical_accuracy: 0.7703 - val_loss: 9.0153 - val_categorical_accuracy: 0.4800\n",
      "\n",
      "Epoch 00026: val_loss did not improve from 8.28396\n",
      "Epoch 27/30\n",
      "23/23 [==============================] - 22s 947ms/step - loss: 8.3900 - categorical_accuracy: 0.6919 - val_loss: 8.5990 - val_categorical_accuracy: 0.5800\n",
      "\n",
      "Epoch 00027: val_loss did not improve from 8.28396\n",
      "Epoch 28/30\n",
      "23/23 [==============================] - 21s 920ms/step - loss: 8.2140 - categorical_accuracy: 0.7605 - val_loss: 8.4524 - val_categorical_accuracy: 0.6500\n",
      "\n",
      "Epoch 00028: val_loss did not improve from 8.28396\n",
      "\n",
      "Epoch 00028: ReduceLROnPlateau reducing learning rate to 0.00020000000949949026.\n",
      "Epoch 29/30\n",
      "23/23 [==============================] - 21s 921ms/step - loss: 8.1826 - categorical_accuracy: 0.7692 - val_loss: 8.4038 - val_categorical_accuracy: 0.6800\n",
      "\n",
      "Epoch 00029: val_loss did not improve from 8.28396\n",
      "Epoch 30/30\n",
      "23/23 [==============================] - 21s 929ms/step - loss: 8.1341 - categorical_accuracy: 0.7764 - val_loss: 8.3459 - val_categorical_accuracy: 0.7100\n",
      "\n",
      "Epoch 00030: val_loss did not improve from 8.28396\n",
      "Epoch 00030: early stopping\n",
      "Total time taken -->  0:11:12.971150\n"
     ]
    }
   ],
   "source": [
    "\n",
    "start_dt_time = datetime.datetime.now()\n",
    "\n",
    "model.fit_generator(train_generator, steps_per_epoch=steps_per_epoch, epochs=num_epochs, verbose=1, \n",
    "                    callbacks=callbacks_list, validation_data=val_generator, \n",
    "                    validation_steps=validation_steps, class_weight=None, workers=1, initial_epoch=0)\n",
    "\n",
    "end_dt_time = datetime.datetime.now()\n",
    "print(\"Total time taken --> \",(end_dt_time-start_dt_time))"
   ]
  },
  {
   "cell_type": "code",
   "execution_count": null,
   "metadata": {
    "id": "BiLZA1w9b9bL"
   },
   "outputs": [],
   "source": []
  }
 ],
 "metadata": {
  "accelerator": "GPU",
  "colab": {
   "name": "Gesture Recognition assignment _latest (2).ipynb",
   "provenance": []
  },
  "kernelspec": {
   "display_name": "Python 3",
   "language": "python",
   "name": "python3"
  },
  "language_info": {
   "codemirror_mode": {
    "name": "ipython",
    "version": 3
   },
   "file_extension": ".py",
   "mimetype": "text/x-python",
   "name": "python",
   "nbconvert_exporter": "python",
   "pygments_lexer": "ipython3",
   "version": "3.7.0"
  }
 },
 "nbformat": 4,
 "nbformat_minor": 1
}
